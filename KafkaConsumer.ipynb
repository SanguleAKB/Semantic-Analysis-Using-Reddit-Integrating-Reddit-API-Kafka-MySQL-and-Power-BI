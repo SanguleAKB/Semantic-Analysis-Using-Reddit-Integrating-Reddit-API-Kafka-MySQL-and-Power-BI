{
 "cells": [
  {
   "cell_type": "code",
   "execution_count": 48,
   "id": "91b93ed9-d895-48cc-a3b1-f8238bf867b0",
   "metadata": {},
   "outputs": [],
   "source": [
    "import pandas as pd \n",
    "from kafka import KafkaConsumer\n",
    "from time import sleep\n",
    "from json import dumps,loads\n",
    "import json "
   ]
  },
  {
   "cell_type": "code",
   "execution_count": null,
   "id": "9f971035-c340-4e60-867e-5ffb886a20c5",
   "metadata": {},
   "outputs": [
    {
     "name": "stdout",
     "output_type": "stream",
     "text": [
      "Inserted data into MySQL\n",
      "Inserted data into MySQL\n",
      "Inserted data into MySQL\n",
      "Inserted data into MySQL\n",
      "Inserted data into MySQL\n",
      "Inserted data into MySQL\n",
      "Inserted data into MySQL\n",
      "Inserted data into MySQL\n",
      "Inserted data into MySQL\n",
      "Inserted data into MySQL\n",
      "Inserted data into MySQL\n",
      "Inserted data into MySQL\n",
      "Inserted data into MySQL\n",
      "Inserted data into MySQL\n",
      "Inserted data into MySQL\n",
      "Inserted data into MySQL\n",
      "Inserted data into MySQL\n",
      "Inserted data into MySQL\n",
      "Inserted data into MySQL\n",
      "Inserted data into MySQL\n",
      "Inserted data into MySQL\n",
      "Inserted data into MySQL\n",
      "Inserted data into MySQL\n",
      "Inserted data into MySQL\n",
      "Inserted data into MySQL\n",
      "Inserted data into MySQL\n",
      "Inserted data into MySQL\n",
      "Inserted data into MySQL\n",
      "Inserted data into MySQL\n",
      "Inserted data into MySQL\n"
     ]
    }
   ],
   "source": [
    "from kafka import KafkaConsumer\n",
    "import json\n",
    "import mysql.connector\n",
    "\n",
    "# MySQL Connection\n",
    "db_conn = mysql.connector.connect(\n",
    "    host=\"localhost\",\n",
    "    user=\"root\",\n",
    "    password=\"root\",\n",
    "    database=\"kafka_server\"\n",
    ")\n",
    "cursor = db_conn.cursor()\n",
    "\n",
    "# Kafka Consumer Setup\n",
    "consumer = KafkaConsumer(\n",
    "    'stone',\n",
    "    bootstrap_servers=['localhost:9092'],\n",
    "    value_deserializer=lambda m: json.loads(m.decode('utf-8'))\n",
    ")\n",
    "\n",
    "# Function to insert data into MySQL\n",
    "def insert_data(posts, comments):\n",
    "    # Insert Posts\n",
    "    post_query = \"INSERT INTO posts (post_id, post_title, post_score, total_comments) VALUES (%s, %s, %s, %s) ON DUPLICATE KEY UPDATE post_title=VALUES(post_title), post_score=VALUES(post_score), total_comments=VALUES(total_comments)\"\n",
    "    for post in posts:\n",
    "        cursor.execute(post_query, (post['post_id'], post['post_title'], post['post_score'], post['total_comments']))\n",
    "\n",
    "    # Insert Comments\n",
    "    comment_query = \"INSERT INTO comments (comment_id, post_id, comment_score, comment_sentiment) VALUES (%s, %s, %s, %s) ON DUPLICATE KEY UPDATE comment_score=VALUES(comment_score), comment_sentiment=VALUES(comment_sentiment)\"\n",
    "    for comment in comments:\n",
    "        cursor.execute(comment_query, (comment['comment_id'], comment['post_id'], comment['comment_score'], comment['comment_sentiment']))\n",
    "\n",
    "    db_conn.commit()\n",
    "\n",
    "# Listen for messages and insert into MySQL\n",
    "for message in consumer:\n",
    "    data = message.value\n",
    "    posts = data['posts']\n",
    "    comments = data['comments']\n",
    "    \n",
    "    insert_data(posts, comments)\n",
    "    print(\"Inserted data into MySQL\")\n",
    "\n",
    "cursor.close()\n",
    "db_conn.close()\n"
   ]
  },
  {
   "cell_type": "code",
   "execution_count": null,
   "id": "e2bb0821-6786-476f-8df3-cb3d883fa0b5",
   "metadata": {},
   "outputs": [],
   "source": []
  },
  {
   "cell_type": "code",
   "execution_count": null,
   "id": "e938cc91-c757-4549-a046-6cd61b1cf254",
   "metadata": {},
   "outputs": [],
   "source": []
  }
 ],
 "metadata": {
  "kernelspec": {
   "display_name": "Python [conda env:base] *",
   "language": "python",
   "name": "conda-base-py"
  },
  "language_info": {
   "codemirror_mode": {
    "name": "ipython",
    "version": 3
   },
   "file_extension": ".py",
   "mimetype": "text/x-python",
   "name": "python",
   "nbconvert_exporter": "python",
   "pygments_lexer": "ipython3",
   "version": "3.12.7"
  }
 },
 "nbformat": 4,
 "nbformat_minor": 5
}
