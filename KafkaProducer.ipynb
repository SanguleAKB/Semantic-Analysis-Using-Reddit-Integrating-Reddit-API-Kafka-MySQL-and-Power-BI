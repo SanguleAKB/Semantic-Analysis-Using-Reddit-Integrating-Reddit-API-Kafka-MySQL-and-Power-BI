{
 "cells": [
  {
   "cell_type": "code",
   "execution_count": 38,
   "id": "d92d7ffa-919e-4e8a-9d33-17bbe5839ab4",
   "metadata": {},
   "outputs": [],
   "source": [
    "from kafka import KafkaProducer\n",
    "from time import sleep\n",
    "from json import dumps\n",
    "import json\n",
    "import time\n",
    "import pandas as pd\n",
    "import praw\n",
    "from textblob import TextBlob"
   ]
  },
  {
   "cell_type": "code",
   "execution_count": 40,
   "id": "b76705b3-cd1e-4c62-9f79-a689cc8c8af5",
   "metadata": {},
   "outputs": [],
   "source": [
    "producer = KafkaProducer(bootstrap_servers=['localhost:9092'], #change ip here\n",
    "                         value_serializer=lambda x: \n",
    "                         dumps(x).encode('utf-8'))"
   ]
  },
  {
   "cell_type": "code",
   "execution_count": 42,
   "id": "ac4df555-b92f-4fe7-8b4f-8bf4199c4fa2",
   "metadata": {},
   "outputs": [
    {
     "data": {
      "text/plain": [
       "<kafka.producer.future.FutureRecordMetadata at 0x22d659080b0>"
      ]
     },
     "execution_count": 42,
     "metadata": {},
     "output_type": "execute_result"
    }
   ],
   "source": [
    "producer.send('stone', value=\"{'Name':'Aniruddha'}\")"
   ]
  },
  {
   "cell_type": "code",
   "execution_count": null,
   "id": "1bdd579a-76b9-4141-a648-d12ff81360f4",
   "metadata": {},
   "outputs": [],
   "source": [
    "# Your Reddit API credentials\n",
    "client_id = 'uB9nAX4q1COK9A'\n",
    "client_secret = 'qFm9rtKo6dwtu2uMO_YP2Q'\n",
    "user_agent = 'SentimentAnalynt8111'"
   ]
  },
  {
   "cell_type": "code",
   "execution_count": 46,
   "id": "82bd48b2-8c1a-4a90-bca9-0181d135d2cb",
   "metadata": {},
   "outputs": [],
   "source": [
    "# Authenticate with Reddit\n",
    "reddit = praw.Reddit(client_id=client_id, client_secret=client_secret, user_agent=user_agent)"
   ]
  },
  {
   "cell_type": "code",
   "execution_count": null,
   "id": "eae3a0ed-7c48-4bfd-abd3-b5494e11ccd3",
   "metadata": {},
   "outputs": [
    {
     "name": "stdout",
     "output_type": "stream",
     "text": [
      "Data sent to Kafka\n",
      "Data sent to Kafka\n",
      "Data sent to Kafka\n",
      "Data sent to Kafka\n",
      "Data sent to Kafka\n",
      "Data sent to Kafka\n",
      "Data sent to Kafka\n",
      "Data sent to Kafka\n",
      "Data sent to Kafka\n",
      "Data sent to Kafka\n",
      "Data sent to Kafka\n",
      "Data sent to Kafka\n",
      "Data sent to Kafka\n",
      "Data sent to Kafka\n",
      "Data sent to Kafka\n",
      "Data sent to Kafka\n",
      "Data sent to Kafka\n",
      "Data sent to Kafka\n",
      "Data sent to Kafka\n",
      "Data sent to Kafka\n",
      "Data sent to Kafka\n",
      "Data sent to Kafka\n",
      "Data sent to Kafka\n",
      "Data sent to Kafka\n",
      "Data sent to Kafka\n",
      "Data sent to Kafka\n",
      "Data sent to Kafka\n",
      "Data sent to Kafka\n",
      "Data sent to Kafka\n",
      "Data sent to Kafka\n"
     ]
    }
   ],
   "source": [
    "def fetch_posts_comments(subreddit, limit=100):\n",
    "    posts_data = []\n",
    "    comments_data = []\n",
    "    for submission in reddit.subreddit(subreddit).hot(limit=limit):\n",
    "        post_id = submission.id\n",
    "        submission_data = {\n",
    "            'post_id': post_id,\n",
    "            'post_title': submission.title,\n",
    "            'post_score': submission.score,\n",
    "            'total_comments': submission.num_comments\n",
    "        }\n",
    "        posts_data.append(submission_data)\n",
    "\n",
    "        for comment in submission.comments.list():\n",
    "            if isinstance(comment, praw.models.MoreComments):\n",
    "                continue\n",
    "            comment_sentiment = TextBlob(comment.body).sentiment.polarity\n",
    "            sentiment = 'positive' if comment_sentiment > 0 else 'neutral' if comment_sentiment == 0 else 'negative'\n",
    "            comment_data = {\n",
    "                'comment_id': comment.id,\n",
    "                'post_id': post_id,\n",
    "                'comment_score': comment.score,\n",
    "                'comment_sentiment': sentiment\n",
    "            }\n",
    "            comments_data.append(comment_data)\n",
    "    return posts_data, comments_data\n",
    "\n",
    "# Function to send data to Kafka\n",
    "def send_data_to_kafka(producer, data, topic):\n",
    "    producer.send(topic, value=data)\n",
    "    producer.flush()\n",
    "\n",
    "# Main loop to fetch data and send to Kafka every 30 seconds\n",
    "subreddit = 'python'\n",
    "topic = 'stone'\n",
    "while True:\n",
    "    posts_data, comments_data = fetch_posts_comments(subreddit)\n",
    "    send_data_to_kafka(producer, {'posts': posts_data, 'comments': comments_data}, topic)\n",
    "    print(\"Data sent to Kafka\")\n",
    "    time.sleep(30)   # after 30 second it pass the record"
   ]
  },
  {
   "cell_type": "code",
   "execution_count": null,
   "id": "fd8fe098-5cfe-4c3e-b038-59952d295a8e",
   "metadata": {},
   "outputs": [],
   "source": []
  }
 ],
 "metadata": {
  "kernelspec": {
   "display_name": "Python [conda env:base] *",
   "language": "python",
   "name": "conda-base-py"
  },
  "language_info": {
   "codemirror_mode": {
    "name": "ipython",
    "version": 3
   },
   "file_extension": ".py",
   "mimetype": "text/x-python",
   "name": "python",
   "nbconvert_exporter": "python",
   "pygments_lexer": "ipython3",
   "version": "3.12.7"
  }
 },
 "nbformat": 4,
 "nbformat_minor": 5
}
